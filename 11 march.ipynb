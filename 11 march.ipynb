{
 "cells": [
  {
   "cell_type": "markdown",
   "id": "42709d40-a5ae-4e29-9c10-aad70d7b3ef3",
   "metadata": {},
   "source": [
    "QTS.1"
   ]
  },
  {
   "cell_type": "markdown",
   "id": "83f32d77-9820-4fef-bb2c-d740b983e670",
   "metadata": {},
   "source": [
    "Certainly! The primary difference between a t-test and a z-test lies in the \n",
    "scenarios they are best suited for and the assumptions they make about the population.\n",
    "\n",
    "**T-test:**  \n",
    "- **Scenario:** It's used when the sample size is small (typically less than 30) or \n",
    "when the population standard deviation is unknown.\n",
    "- **Example Scenario:** You might use a t-test to compare the mean blood pressure of \n",
    "two groups of 20 individuals each who are undergoing different treatments.\n",
    "\n",
    "**Z-test:**  \n",
    "- **Scenario:** It's employed when the sample size is large (usually greater than 30) \n",
    "and when the population standard deviation is known.\n",
    "- **Example Scenario:** If you're analyzing the mean heights of a population of 500 \n",
    "people and have access to the standard deviation of the entire population, a z-test \n",
    "would be appropriate for comparing the average height before and after a dietary intervention.\n",
    "\n",
    "In summary, the choice between a t-test and a z-test hinges on the sample size and whether \n",
    "the population standard deviation is known. T-tests are more flexible for smaller samples \n",
    "and when the population standard deviation is unknown, while z-tests are suitable for larger\n",
    "samples with a known population standard deviation."
   ]
  },
  {
   "cell_type": "markdown",
   "id": "0f326632-4067-459d-ac2c-7cb846bd6737",
   "metadata": {},
   "source": [
    "QTS.2"
   ]
  },
  {
   "cell_type": "markdown",
   "id": "f281c85f-99b4-4480-9299-b3d2e0b25de4",
   "metadata": {},
   "source": [
    "In a one-tailed test, significance is tested in one direction (either greater than or \n",
    "less than), while in a two-tailed test, significance is assessed in both directions \n",
    "(greater than or less than). One-tailed tests are more sensitive to detecting effects in a \n",
    "specific direction, while two-tailed tests are more general, detecting effects in either direction."
   ]
  },
  {
   "cell_type": "markdown",
   "id": "66ab2003-d7ff-4f77-b22a-85aa6b8c7281",
   "metadata": {},
   "source": [
    "QTS.3"
   ]
  },
  {
   "cell_type": "markdown",
   "id": "48c31d7e-eaa2-4810-8536-217cf263e50f",
   "metadata": {},
   "source": [
    "Type 1 error occurs when you reject a true null hypothesis. An example could be \n",
    "in a criminal trial: an innocent person (null hypothesis) is wrongly convicted \n",
    "(rejected) as guilty.\n",
    "\n",
    "Type 2 error happens when you fail to reject a false null hypothesis. For instance,\n",
    "in medical testing, it occurs when a sick person (null hypothesis) is mistakenly \n",
    "considered healthy (not rejected) based on a test result."
   ]
  },
  {
   "cell_type": "markdown",
   "id": "b756557b-1132-4c86-8236-6436a114c349",
   "metadata": {},
   "source": [
    "QTS.4"
   ]
  },
  {
   "cell_type": "markdown",
   "id": "72ebf41c-accb-43a0-9b2c-a21145c75f90",
   "metadata": {},
   "source": [
    "Bayes's theorem is a fundamental concept in probability theory that \n",
    "describes how to update the probability of an event based on new \n",
    "information or evidence. It's expressed as P(A|B) = [P(B|A) * P(A)] / P(B),\n",
    "where P(A|B) is the probability of event A given that event B has occurred.\n",
    "\n",
    "An example: Let's say you want to determine the probability that someone \n",
    "has a certain disease. The overall occurrence of the disease in the \n",
    "population (prior probability) is 5%. You have a test for the disease that\n",
    "is 90% accurate in detecting it and 10% false positive rate. If an individual\n",
    "tests positive, Bayes's theorem helps revise the probability of actually \n",
    "having the disease based on the test result and prior probability."
   ]
  },
  {
   "cell_type": "markdown",
   "id": "e5cef5e0-1870-4a8c-837b-7d324f2113df",
   "metadata": {},
   "source": [
    "QTS.5"
   ]
  },
  {
   "cell_type": "markdown",
   "id": "1cc29c23-b355-4524-a559-2d4681e904b6",
   "metadata": {},
   "source": [
    "A confidence interval is a range of values that likely contains the true \n",
    "value of a population parameter. It provides a measure of the uncertainty \n",
    "associated with estimating population parameters from sample data. \n",
    "\n",
    "To calculate a confidence interval:\n",
    "1. **Gather a sample**: Collect data from a population.\n",
    "2. **Calculate sample statistics**: Find the sample mean and standard deviation.\n",
    "3. **Choose a confidence level**: Typically 90%, 95%, or 99%.\n",
    "4. **Determine the margin of error**: Based on the chosen confidence level and sample data.\n",
    "5. **Compute the interval**: Construct the range around the sample mean using the margin of error.\n",
    "\n",
    "For example, suppose you want to estimate the average height of students in\n",
    "a school. You measure the heights of 100 randomly selected students and find the \n",
    "sample mean height to be 65 inches with a standard deviation of 3 inches. With \n",
    "a 95% confidence level, the confidence interval could be calculated to be, say,\n",
    "(64.5, 65.5) inches. This means that you're 95% confident that the true average\n",
    "height of all students in the school falls within this range."
   ]
  },
  {
   "cell_type": "markdown",
   "id": "815c3012-24f0-480a-8cc8-aa16108b012c",
   "metadata": {},
   "source": [
    "QTS.6"
   ]
  },
  {
   "cell_type": "markdown",
   "id": "9b5986a3-34aa-4781-9a77-df2db52bfa3b",
   "metadata": {},
   "source": [
    "Certainly! Bayes' Theorem allows us to update the probability of an event \n",
    "occurring based on new evidence or information. Here's an example problem\n",
    "and a solution using Python:\n",
    "\n",
    "**Problem:**\n",
    "Suppose that a certain medical test is 95% accurate in detecting a disease \n",
    "when it's actually present, and the disease occurs in 1% of the population.\n",
    "If a person tests positive for the disease, what is the probability that \n",
    "they actually have the disease?\n",
    "\n",
    "**Solution using Bayes' Theorem:**"
   ]
  },
  {
   "cell_type": "code",
   "execution_count": 3,
   "id": "ff1df637-4732-41cb-a383-6070cc8c7b9c",
   "metadata": {},
   "outputs": [
    {
     "name": "stdout",
     "output_type": "stream",
     "text": [
      "Probability of having the disease given a positive test: 0.16101694915254236\n"
     ]
    }
   ],
   "source": [
    "# Prior probability of having the disease\n",
    "prior_probability_disease = 0.01\n",
    "\n",
    "# Probability of a positive test given that the person has the disease\n",
    "probability_positive_given_disease = 0.95\n",
    "\n",
    "# Probability of a positive test given that the person does not have the disease\n",
    "# This is the false positive rate (1 - specificity)\n",
    "probability_positive_given_no_disease = 0.05\n",
    "\n",
    "# Probability of not having the disease\n",
    "prior_probability_no_disease = 1 - prior_probability_disease\n",
    "\n",
    "# Using Bayes' Theorem to calculate the probability of having the disease given a positive test\n",
    "probability_disease_given_positive = (prior_probability_disease * probability_positive_given_disease) / ((prior_probability_disease * probability_positive_given_disease) + (prior_probability_no_disease * probability_positive_given_no_disease))\n",
    "\n",
    "print(f\"Probability of having the disease given a positive test: {probability_disease_given_positive}\")\n",
    "\n"
   ]
  },
  {
   "cell_type": "markdown",
   "id": "89575358-ed37-446a-9fdb-4f27f925c0fd",
   "metadata": {},
   "source": [
    "QTS.7"
   ]
  },
  {
   "cell_type": "code",
   "execution_count": 4,
   "id": "093fd34d-bc31-4b7d-b2b6-7d4f0a16de68",
   "metadata": {},
   "outputs": [
    {
     "name": "stdout",
     "output_type": "stream",
     "text": [
      "Confidence Interval for the sample data: (48.614070708874365, 51.385929291125635)\n"
     ]
    }
   ],
   "source": [
    "sample_mean = 50  # Sample mean\n",
    "sample_std = 5  # Sample standard deviation\n",
    "confidence = 0.95  # Confidence level\n",
    "\n",
    "# For a normal distribution, use the z-score (1.96 for 95% confidence)\n",
    "z_score = 1.96  # 95% confidence level\n",
    "\n",
    "# Calculate the margin of error\n",
    "margin_of_error = z_score * (sample_std / (sample_mean ** 0.5))\n",
    "\n",
    "# Calculate the confidence interval\n",
    "lower_bound = sample_mean - margin_of_error\n",
    "upper_bound = sample_mean + margin_of_error\n",
    "\n",
    "print(f\"Confidence Interval for the sample data: ({lower_bound}, {upper_bound})\")\n"
   ]
  },
  {
   "cell_type": "markdown",
   "id": "7b458caf-bd11-4ddd-b2f4-57cd88bb7741",
   "metadata": {},
   "source": [
    "QTS.8"
   ]
  },
  {
   "cell_type": "markdown",
   "id": "0eba3856-b049-4ed2-a447-824fcf7e7c30",
   "metadata": {},
   "source": [
    "\n",
    "The margin of error in a confidence interval represents the range within \n",
    "which the true population parameter is likely to fall. It's influenced by\n",
    "sample variability and the chosen confidence level. A smaller margin of \n",
    "error indicates a more precise estimate of the population parameter.\n",
    "\n",
    "Sample size inversely affects the margin of error: a larger sample size often\n",
    "results in a smaller margin of error. This is because as the sample size increases\n",
    ", the variability in the sample mean decreases, leading to a more accurate \n",
    "estimation of the population parameter.\n",
    "\n",
    "For instance, consider estimating the average time spent on a website by users\n",
    ". If you survey 50 users and find a sample mean time of 4 minutes with a margin \n",
    "of error of ±0.5 minutes, increasing the sample size to 500 might yield a smaller\n",
    "margin of error, say ±0.2 minutes. The larger sample provides a more precise estimate,\n",
    "narrowing the range in which the true average time spent on the website likely falls."
   ]
  },
  {
   "cell_type": "markdown",
   "id": "37b79c5c-a5ff-4414-9993-0eeab91b97b8",
   "metadata": {},
   "source": [
    "QTS.9"
   ]
  },
  {
   "cell_type": "code",
   "execution_count": 8,
   "id": "4af1ba27-fdb6-41df-bc49-451a5f7aaa04",
   "metadata": {},
   "outputs": [
    {
     "name": "stdout",
     "output_type": "stream",
     "text": [
      "z_score:1.0\n"
     ]
    }
   ],
   "source": [
    "## calculation of a z-score\n",
    "datapt=75\n",
    "pop_mean=70\n",
    "pop_std=5\n",
    "\n",
    "z_score=(datapt-pop_mean)/pop_std\n",
    "print(f\"z_score:{z_score}\")"
   ]
  },
  {
   "cell_type": "markdown",
   "id": "9b01ab89-b2a3-4011-bbf6-210d9285fe7b",
   "metadata": {},
   "source": [
    "QTS.10"
   ]
  },
  {
   "cell_type": "code",
   "execution_count": 9,
   "id": "bbc97376-345c-435f-a30b-166028da2a06",
   "metadata": {},
   "outputs": [
    {
     "name": "stdout",
     "output_type": "stream",
     "text": [
      "rejected the null hypothesis\n"
     ]
    }
   ],
   "source": [
    "import numpy as np\n",
    "from scipy import stats\n",
    "\n",
    "size=50\n",
    "s_mean=6\n",
    "s_std=2.5\n",
    "ci=0.95\n",
    "alpha=0.05\n",
    "pop_mean=0\n",
    "\n",
    "## hypothesis\n",
    "##null- drug is not effective at 95% confidence interval,pop_mean=0\n",
    "##alternate- drug is effective at 95% confidence interval,pop_mean not equals to zero\n",
    "\n",
    "##calculation\n",
    "t_score=(s_mean-0)/(s_std/(size**0.5))\n",
    "\n",
    "## critical t value for a two tailed test\n",
    "cri_t=stats.t.ppf(alpha/2,df=size-1)\n",
    "\n",
    "if abs(t_score)>cri_t:\n",
    "    print(\"rejected the null hypothesis\")\n",
    "else:\n",
    "    print(\"fail to reject the null hypothesis\")\n"
   ]
  },
  {
   "cell_type": "markdown",
   "id": "b6b65537-0c77-4d2f-a2ad-a629516d307e",
   "metadata": {},
   "source": [
    "QTS.11"
   ]
  },
  {
   "cell_type": "code",
   "execution_count": 15,
   "id": "be9dff26-9131-44af-a3f4-ccaa743913a0",
   "metadata": {},
   "outputs": [
    {
     "name": "stdout",
     "output_type": "stream",
     "text": [
      "95% Confidence Interval: (60.8191771144905%, 69.18082288550951%)\n"
     ]
    }
   ],
   "source": [
    "import math\n",
    "\n",
    "# Given data\n",
    "sample_proportion = 0.65  # 65% as a decimal\n",
    "confidence = 0.95  # 95% confidence level\n",
    "sample_size = 500\n",
    "z_critical = 1.96  # Z-score for a 95% confidence interval\n",
    "\n",
    "# Calculate the margin of error\n",
    "margin_of_error = z_critical * math.sqrt((sample_proportion * (1 - sample_proportion)) / sample_size)\n",
    "\n",
    "# Calculate the confidence interval\n",
    "lower_bound = sample_proportion - margin_of_error\n",
    "upper_bound = sample_proportion + margin_of_error\n",
    "\n",
    "# Convert bounds to percentages\n",
    "lower_bound_percent = lower_bound * 100\n",
    "upper_bound_percent = upper_bound * 100\n",
    "\n",
    "print(f\"95% Confidence Interval: ({lower_bound_percent}%, {upper_bound_percent}%)\")\n"
   ]
  },
  {
   "cell_type": "markdown",
   "id": "1e69f97e-6dc1-426a-86d6-707221ed96a2",
   "metadata": {},
   "source": [
    "QTS.12"
   ]
  },
  {
   "cell_type": "code",
   "execution_count": 18,
   "id": "7f30993d-af68-4ded-9f4d-0f388a3484f9",
   "metadata": {},
   "outputs": [
    {
     "name": "stdout",
     "output_type": "stream",
     "text": [
      "There's no statistically significant difference in performance between the teaching methods.\n"
     ]
    }
   ],
   "source": [
    "import scipy.stats as stats\n",
    "\n",
    "# Sample A data\n",
    "mean_A = 85\n",
    "std_dev_A = 6\n",
    "sample_size_A = 30\n",
    "\n",
    "# Sample B data\n",
    "mean_B = 82\n",
    "std_dev_B = 5\n",
    "sample_size_B = 30\n",
    "\n",
    "# Performing the t-test\n",
    "t_stat, p_value = stats.ttest_ind_from_stats(mean_A, std_dev_A, sample_size_A, mean_B, std_dev_B, sample_size_B)\n",
    "\n",
    "# Significance level\n",
    "alpha = 0.01\n",
    "\n",
    "# Check for statistical significance\n",
    "if p_value < alpha:\n",
    "    print(\"The difference in performance between the teaching methods is statistically significant.\")\n",
    "else:\n",
    "    print(\"There's no statistically significant difference in performance between the teaching methods.\")\n"
   ]
  },
  {
   "cell_type": "markdown",
   "id": "764dc966-ac6c-4d70-88f7-8639730dfbf5",
   "metadata": {},
   "source": [
    "QTS.13"
   ]
  },
  {
   "cell_type": "code",
   "execution_count": 30,
   "id": "646af0e0-efd6-4e84-ac78-aeb33f7233b0",
   "metadata": {},
   "outputs": [
    {
     "name": "stdout",
     "output_type": "stream",
     "text": [
      "at the 90% confidence interval population lies between low_ci:64.06215706510349, high_ci:65.93784293489651\n"
     ]
    }
   ],
   "source": [
    "import numpy as np\n",
    "from scipy import stats\n",
    "\n",
    "pop_mean=60\n",
    "pop_std=8\n",
    "samp_mean=65\n",
    "samp_size=50\n",
    "ci=0.90\n",
    "\n",
    "z_critical=stats.norm.cdf((1+ci)/2)\n",
    "\n",
    "moe=z_critical*(pop_std/(samp_size**0.5))\n",
    "\n",
    "low_ci=samp_mean-moe\n",
    "high_ci=samp_mean+moe\n",
    "\n",
    "print(f\"at the 90% confidence interval population lies between low_ci:{low_ci}, high_ci:{high_ci}\")\n"
   ]
  },
  {
   "cell_type": "markdown",
   "id": "97fe6332-dbc8-4135-9911-742ad422df30",
   "metadata": {},
   "source": [
    "QTS.14"
   ]
  },
  {
   "cell_type": "code",
   "execution_count": 1,
   "id": "4be60262-a4b7-4542-8f52-c91eab083fb4",
   "metadata": {},
   "outputs": [
    {
     "name": "stdout",
     "output_type": "stream",
     "text": [
      "Calculated t-statistic: 27.386127875258307\n",
      "Critical t-value: 1.6991270265334972\n",
      "P-value: 2.8325244885113353e-22\n",
      "Null hypothesis rejected. Caffeine has a significant effect on reaction time.\n"
     ]
    }
   ],
   "source": [
    "from scipy import stats\n",
    "\n",
    "# Given data\n",
    "sample_mean = 0.25  # Sample mean reaction time\n",
    "sample_std = 0.05   # Standard deviation\n",
    "sample_size = 30     # Sample size\n",
    "hypothetical_mean = 0  # Hypothetical population mean under the null hypothesis\n",
    "\n",
    "# Calculate the t-statistic\n",
    "t_statistic = (sample_mean - hypothetical_mean) / (sample_std / (sample_size ** 0.5))\n",
    "\n",
    "# Degrees of freedom\n",
    "degrees_of_freedom = sample_size - 1\n",
    "\n",
    "# Calculate the critical t-value at a 90% confidence level\n",
    "alpha = 0.1  # 1 - Confidence level\n",
    "critical_t = stats.t.ppf(1 - alpha / 2, degrees_of_freedom)\n",
    "\n",
    "# Calculate the p-value\n",
    "p_value = stats.t.sf(abs(t_statistic), degrees_of_freedom) * 2  # Two-tailed test\n",
    "\n",
    "# Output results\n",
    "print(f\"Calculated t-statistic: {t_statistic}\")\n",
    "print(f\"Critical t-value: {critical_t}\")\n",
    "print(f\"P-value: {p_value}\")\n",
    "\n",
    "# Decision\n",
    "if abs(t_statistic) > critical_t:\n",
    "    print(\"Null hypothesis rejected. Caffeine has a significant effect on reaction time.\")\n",
    "else:\n",
    "    print(\"Failed to reject the null hypothesis. Caffeine may not have a significant effect on reaction time.\")\n"
   ]
  },
  {
   "cell_type": "code",
   "execution_count": null,
   "id": "68d23867-941f-4680-ab7a-f861edec3b7c",
   "metadata": {},
   "outputs": [],
   "source": []
  }
 ],
 "metadata": {
  "kernelspec": {
   "display_name": "Python 3 (ipykernel)",
   "language": "python",
   "name": "python3"
  },
  "language_info": {
   "codemirror_mode": {
    "name": "ipython",
    "version": 3
   },
   "file_extension": ".py",
   "mimetype": "text/x-python",
   "name": "python",
   "nbconvert_exporter": "python",
   "pygments_lexer": "ipython3",
   "version": "3.10.8"
  }
 },
 "nbformat": 4,
 "nbformat_minor": 5
}
